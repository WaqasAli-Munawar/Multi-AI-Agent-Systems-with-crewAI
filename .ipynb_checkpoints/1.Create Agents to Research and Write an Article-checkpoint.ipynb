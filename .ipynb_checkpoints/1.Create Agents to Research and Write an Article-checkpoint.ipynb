{
 "cells": [
  {
   "cell_type": "markdown",
   "metadata": {},
   "source": [
    "In this file, you will be introduced to the foundational concepts of multi-agent systems and get an overview of the crewAI framework."
   ]
  },
  {
   "cell_type": "markdown",
   "metadata": {},
   "source": [
    "```Python\n",
    "!pip install crewai==0.28.8 crewai_tools==0.1.6 langchain_community==0.0.29\n",
    "```"
   ]
  },
  {
   "cell_type": "code",
   "execution_count": 15,
   "metadata": {
    "height": 64
   },
   "outputs": [],
   "source": [
    "# Warning control\n",
    "import warnings\n",
    "warnings.filterwarnings('ignore')"
   ]
  },
  {
   "cell_type": "markdown",
   "metadata": {},
   "source": [
    "- Import from the crewAI libray."
   ]
  },
  {
   "cell_type": "code",
   "execution_count": 16,
   "metadata": {
    "height": 30
   },
   "outputs": [],
   "source": [
    "from crewai import Agent, Task, Crew"
   ]
  },
  {
   "cell_type": "markdown",
   "metadata": {},
   "source": [
    "- As a LLM for your agents, you'll be using OpenAI's `gpt-3.5-turbo`.\n",
    "\n",
    "**Optional Note:** crewAI also allow other popular models to be used as a LLM for your Agents. You can see some of the examples at the [bottom of the notebook](#1)."
   ]
  },
  {
   "cell_type": "code",
   "execution_count": 17,
   "metadata": {
    "height": 98
   },
   "outputs": [],
   "source": [
    "import os\n",
    "from utils import get_openai_api_key\n",
    "\n",
    "openai_api_key = get_openai_api_key()\n",
    "os.environ[\"OPENAI_MODEL_NAME\"] = 'gpt-3.5-turbo'"
   ]
  },
  {
   "cell_type": "markdown",
   "metadata": {},
   "source": [
    "## Creating Agents\n",
    "\n",
    "- Define your Agents, and provide them a `role`, `goal` and `backstory`.\n",
    "- It has been seen that LLMs perform better when they are role playing."
   ]
  },
  {
   "cell_type": "markdown",
   "metadata": {},
   "source": [
    "### Agent: Planner\n",
    "\n",
    "**Note**: The benefit of using _multiple strings_ :\n",
    "```Python\n",
    "varname = \"line 1 of text\"\n",
    "          \"line 2 of text\"\n",
    "```\n",
    "\n",
    "versus the _triple quote docstring_:\n",
    "```Python\n",
    "varname = \"\"\"line 1 of text\n",
    "             line 2 of text\n",
    "          \"\"\"\n",
    "```\n",
    "is that it can avoid adding those whitespaces and newline characters, making it better formatted to be passed to the LLM."
   ]
  },
  {
   "cell_type": "code",
   "execution_count": 18,
   "metadata": {
    "height": 234
   },
   "outputs": [],
   "source": [
    "planner = Agent(\n",
    "    role=\"Content Planner\",\n",
    "    goal=\"Plan engaging and factually accurate content on {topic}\",\n",
    "    backstory=\"You're working on planning a blog article \"\n",
    "              \"about the topic: {topic}.\"\n",
    "              \"You collect information that helps the \"\n",
    "              \"audience learn something \"\n",
    "              \"and make informed decisions. \"\n",
    "              \"Your work is the basis for \"\n",
    "              \"the Content Writer to write an article on this topic.\",\n",
    "    allow_delegation=False,\n",
    "\tverbose=True\n",
    ")"
   ]
  },
  {
   "cell_type": "markdown",
   "metadata": {},
   "source": [
    "### Agent: Writer"
   ]
  },
  {
   "cell_type": "code",
   "execution_count": 19,
   "metadata": {
    "height": 370
   },
   "outputs": [],
   "source": [
    "writer = Agent(\n",
    "    role=\"Content Writer\",\n",
    "    goal=\"Write insightful and factually accurate \"\n",
    "         \"opinion piece about the topic: {topic}\",\n",
    "    backstory=\"You're working on a writing \"\n",
    "              \"a new opinion piece about the topic: {topic}. \"\n",
    "              \"You base your writing on the work of \"\n",
    "              \"the Content Planner, who provides an outline \"\n",
    "              \"and relevant context about the topic. \"\n",
    "              \"You follow the main objectives and \"\n",
    "              \"direction of the outline, \"\n",
    "              \"as provide by the Content Planner. \"\n",
    "              \"You also provide objective and impartial insights \"\n",
    "              \"and back them up with information \"\n",
    "              \"provide by the Content Planner. \"\n",
    "              \"You acknowledge in your opinion piece \"\n",
    "              \"when your statements are opinions \"\n",
    "              \"as opposed to objective statements.\",\n",
    "    allow_delegation=False,\n",
    "    verbose=True\n",
    ")"
   ]
  },
  {
   "cell_type": "markdown",
   "metadata": {},
   "source": [
    "### Agent: Editor"
   ]
  },
  {
   "cell_type": "code",
   "execution_count": 20,
   "metadata": {
    "height": 268
   },
   "outputs": [],
   "source": [
    "editor = Agent(\n",
    "    role=\"Editor\",\n",
    "    goal=\"Edit a given blog post to align with \"\n",
    "         \"the writing style of the organization. \",\n",
    "    backstory=\"You are an editor who receives a blog post \"\n",
    "              \"from the Content Writer. \"\n",
    "              \"Your goal is to review the blog post \"\n",
    "              \"to ensure that it follows journalistic best practices,\"\n",
    "              \"provides balanced viewpoints \"\n",
    "              \"when providing opinions or assertions, \"\n",
    "              \"and also avoids major controversial topics \"\n",
    "              \"or opinions when possible.\",\n",
    "    allow_delegation=False,\n",
    "    verbose=True\n",
    ")"
   ]
  },
  {
   "cell_type": "markdown",
   "metadata": {},
   "source": [
    "## Creating Tasks\n",
    "\n",
    "- Define your Tasks, and provide them a `description`, `expected_output` and `agent`."
   ]
  },
  {
   "cell_type": "markdown",
   "metadata": {},
   "source": [
    "### Task: Plan"
   ]
  },
  {
   "cell_type": "code",
   "execution_count": 21,
   "metadata": {
    "height": 268
   },
   "outputs": [],
   "source": [
    "plan = Task(\n",
    "    description=(\n",
    "        \"1. Prioritize the latest trends, key players, \"\n",
    "            \"and noteworthy news on {topic}.\\n\"\n",
    "        \"2. Identify the target audience, considering \"\n",
    "            \"their interests and pain points.\\n\"\n",
    "        \"3. Develop a detailed content outline including \"\n",
    "            \"an introduction, key points, and a call to action.\\n\"\n",
    "        \"4. Include SEO keywords and relevant data or sources.\"\n",
    "    ),\n",
    "    expected_output=\"A comprehensive content plan document \"\n",
    "        \"with an outline, audience analysis, \"\n",
    "        \"SEO keywords, and resources.\",\n",
    "    agent=planner,\n",
    ")"
   ]
  },
  {
   "cell_type": "markdown",
   "metadata": {},
   "source": [
    "### Task: Write"
   ]
  },
  {
   "cell_type": "code",
   "execution_count": 22,
   "metadata": {
    "height": 319
   },
   "outputs": [],
   "source": [
    "write = Task(\n",
    "    description=(\n",
    "        \"1. Use the content plan to craft a compelling \"\n",
    "            \"blog post on {topic}.\\n\"\n",
    "        \"2. Incorporate SEO keywords naturally.\\n\"\n",
    "\t\t\"3. Sections/Subtitles are properly named \"\n",
    "            \"in an engaging manner.\\n\"\n",
    "        \"4. Ensure the post is structured with an \"\n",
    "            \"engaging introduction, insightful body, \"\n",
    "            \"and a summarizing conclusion.\\n\"\n",
    "        \"5. Proofread for grammatical errors and \"\n",
    "            \"alignment with the brand's voice.\\n\"\n",
    "    ),\n",
    "    expected_output=\"A well-written blog post \"\n",
    "        \"in markdown format, ready for publication, \"\n",
    "        \"each section should have 2 or 3 paragraphs.\",\n",
    "    agent=writer,\n",
    ")"
   ]
  },
  {
   "cell_type": "markdown",
   "metadata": {},
   "source": [
    "### Task: Edit"
   ]
  },
  {
   "cell_type": "code",
   "execution_count": 23,
   "metadata": {
    "height": 166
   },
   "outputs": [],
   "source": [
    "edit = Task(\n",
    "    description=(\"Proofread the given blog post for \"\n",
    "                 \"grammatical errors and \"\n",
    "                 \"alignment with the brand's voice.\"),\n",
    "    expected_output=\"A well-written blog post in markdown format, \"\n",
    "                    \"ready for publication, \"\n",
    "                    \"each section should have 2 or 3 paragraphs.\",\n",
    "    agent=editor\n",
    ")"
   ]
  },
  {
   "cell_type": "markdown",
   "metadata": {},
   "source": [
    "## Creating the Crew\n",
    "\n",
    "- Create your crew of Agents\n",
    "- Pass the tasks to be performed by those agents.\n",
    "    - **Note**: *For this simple example*, the tasks will be performed sequentially (i.e they are dependent on each other), so the _order_ of the task in the list _matters_.\n",
    "- `verbose=2` allows you to see all the logs of the execution. "
   ]
  },
  {
   "cell_type": "code",
   "execution_count": 24,
   "metadata": {
    "height": 98
   },
   "outputs": [
    {
     "name": "stderr",
     "output_type": "stream",
     "text": [
      "2024-07-02 12:49:54,011 - 140286131035008 - __init__.py-__init__:518 - WARNING: Overriding of current TracerProvider is not allowed\n"
     ]
    }
   ],
   "source": [
    "crew = Crew(\n",
    "    agents=[planner, writer, editor],\n",
    "    tasks=[plan, write, edit],\n",
    "    verbose=2\n",
    ")"
   ]
  },
  {
   "cell_type": "markdown",
   "metadata": {},
   "source": [
    "## Running the Crew"
   ]
  },
  {
   "cell_type": "markdown",
   "metadata": {},
   "source": [
    "**Note**: LLMs can provide different outputs for they same input, so what you get might be different than what you see in the video."
   ]
  },
  {
   "cell_type": "code",
   "execution_count": 25,
   "metadata": {
    "height": 30
   },
   "outputs": [
    {
     "name": "stdout",
     "output_type": "stream",
     "text": [
      "\u001b[1m\u001b[95m [DEBUG]: == Working Agent: Content Planner\u001b[00m\n",
      "\u001b[1m\u001b[95m [INFO]: == Starting Task: 1. Prioritize the latest trends, key players, and noteworthy news on Artificial Intelligence.\n",
      "2. Identify the target audience, considering their interests and pain points.\n",
      "3. Develop a detailed content outline including an introduction, key points, and a call to action.\n",
      "4. Include SEO keywords and relevant data or sources.\u001b[00m\n",
      "\n",
      "\n",
      "\u001b[1m> Entering new CrewAgentExecutor chain...\u001b[0m\n",
      "\u001b[32;1m\u001b[1;3mI now can give a great answer\n",
      "\n",
      "Final Answer: \n",
      "\n",
      "Content Plan: \n",
      "\n",
      "Title: The Future of Artificial Intelligence: Latest Trends, Key Players, and Noteworthy News\n",
      "\n",
      "Introduction:\n",
      "- Brief overview of the current landscape of artificial intelligence\n",
      "- Importance of staying updated on the latest trends and news in AI\n",
      "\n",
      "Key Points:\n",
      "1. Latest Trends in Artificial Intelligence:\n",
      "- Overview of emerging technologies such as machine learning, natural language processing, and computer vision\n",
      "- Discussion on the impact of AI on various industries including healthcare, finance, and manufacturing\n",
      "- Case studies highlighting successful AI implementations\n",
      "\n",
      "2. Key Players in the AI Industry:\n",
      "- Profile of leading companies in AI such as Google, Microsoft, and IBM\n",
      "- Overview of startups making waves in the AI space\n",
      "- Analysis of key partnerships and collaborations driving innovation in AI\n",
      "\n",
      "3. Noteworthy News in Artificial Intelligence:\n",
      "- Recent advancements in AI research and development\n",
      "- Updates on regulatory developments and ethical considerations in AI\n",
      "- Highlights of AI-related events, conferences, and publications\n",
      "\n",
      "Audience Analysis:\n",
      "Target Audience: Professionals in the tech industry, entrepreneurs, and AI enthusiasts\n",
      "Interests: Cutting-edge technology, innovation, business strategy\n",
      "Pain Points: Keeping up with rapidly evolving technologies, understanding the implications of AI on their respective industries\n",
      "\n",
      "SEO Keywords:\n",
      "- Artificial Intelligence trends\n",
      "- Top AI companies\n",
      "- Latest AI news\n",
      "- AI technology updates\n",
      "- Future of artificial intelligence\n",
      "\n",
      "Resources:\n",
      "1. Forbes - AI & Big Data\n",
      "2. TechCrunch - AI\n",
      "3. MIT Technology Review - Artificial Intelligence\n",
      "4. World Economic Forum - Artificial Intelligence\n",
      "5. Gartner - Artificial Intelligence\n",
      "\n",
      "Call to Action:\n",
      "- Encourage readers to subscribe for regular updates on AI trends and news\n",
      "- Prompt them to share their thoughts and insights on the future of artificial intelligence\n",
      "\n",
      "Overall, this content plan aims to provide valuable insights and information on artificial intelligence to engage the target audience and empower them to make informed decisions in the rapidly evolving AI landscape.\u001b[0m\n",
      "\n",
      "\u001b[1m> Finished chain.\u001b[0m\n",
      "\u001b[1m\u001b[92m [DEBUG]: == [Content Planner] Task output: Content Plan: \n",
      "\n",
      "Title: The Future of Artificial Intelligence: Latest Trends, Key Players, and Noteworthy News\n",
      "\n",
      "Introduction:\n",
      "- Brief overview of the current landscape of artificial intelligence\n",
      "- Importance of staying updated on the latest trends and news in AI\n",
      "\n",
      "Key Points:\n",
      "1. Latest Trends in Artificial Intelligence:\n",
      "- Overview of emerging technologies such as machine learning, natural language processing, and computer vision\n",
      "- Discussion on the impact of AI on various industries including healthcare, finance, and manufacturing\n",
      "- Case studies highlighting successful AI implementations\n",
      "\n",
      "2. Key Players in the AI Industry:\n",
      "- Profile of leading companies in AI such as Google, Microsoft, and IBM\n",
      "- Overview of startups making waves in the AI space\n",
      "- Analysis of key partnerships and collaborations driving innovation in AI\n",
      "\n",
      "3. Noteworthy News in Artificial Intelligence:\n",
      "- Recent advancements in AI research and development\n",
      "- Updates on regulatory developments and ethical considerations in AI\n",
      "- Highlights of AI-related events, conferences, and publications\n",
      "\n",
      "Audience Analysis:\n",
      "Target Audience: Professionals in the tech industry, entrepreneurs, and AI enthusiasts\n",
      "Interests: Cutting-edge technology, innovation, business strategy\n",
      "Pain Points: Keeping up with rapidly evolving technologies, understanding the implications of AI on their respective industries\n",
      "\n",
      "SEO Keywords:\n",
      "- Artificial Intelligence trends\n",
      "- Top AI companies\n",
      "- Latest AI news\n",
      "- AI technology updates\n",
      "- Future of artificial intelligence\n",
      "\n",
      "Resources:\n",
      "1. Forbes - AI & Big Data\n",
      "2. TechCrunch - AI\n",
      "3. MIT Technology Review - Artificial Intelligence\n",
      "4. World Economic Forum - Artificial Intelligence\n",
      "5. Gartner - Artificial Intelligence\n",
      "\n",
      "Call to Action:\n",
      "- Encourage readers to subscribe for regular updates on AI trends and news\n",
      "- Prompt them to share their thoughts and insights on the future of artificial intelligence\n",
      "\n",
      "Overall, this content plan aims to provide valuable insights and information on artificial intelligence to engage the target audience and empower them to make informed decisions in the rapidly evolving AI landscape.\n",
      "\n",
      "\u001b[00m\n",
      "\u001b[1m\u001b[95m [DEBUG]: == Working Agent: Content Writer\u001b[00m\n",
      "\u001b[1m\u001b[95m [INFO]: == Starting Task: 1. Use the content plan to craft a compelling blog post on Artificial Intelligence.\n",
      "2. Incorporate SEO keywords naturally.\n",
      "3. Sections/Subtitles are properly named in an engaging manner.\n",
      "4. Ensure the post is structured with an engaging introduction, insightful body, and a summarizing conclusion.\n",
      "5. Proofread for grammatical errors and alignment with the brand's voice.\n",
      "\u001b[00m\n",
      "\n",
      "\n",
      "\u001b[1m> Entering new CrewAgentExecutor chain...\u001b[0m\n",
      "\u001b[32;1m\u001b[1;3mI now have a clear understanding of the content plan and objectives for crafting a compelling blog post on Artificial Intelligence. I am ready to create an engaging and informative piece that will resonate with professionals in the tech industry, entrepreneurs, and AI enthusiasts.\n",
      "\n",
      "Final Answer: \n",
      "\n",
      "# The Future of Artificial Intelligence: Latest Trends, Key Players, and Noteworthy News\n",
      "\n",
      "## Introduction\n",
      "Artificial Intelligence (AI) has become an integral part of our daily lives, revolutionizing industries and driving innovation at an unprecedented pace. Staying updated on the latest trends and news in AI is crucial for professionals in the tech industry, entrepreneurs, and AI enthusiasts to harness the full potential of this transformative technology.\n",
      "\n",
      "## Latest Trends in Artificial Intelligence\n",
      "The landscape of AI is constantly evolving, with emerging technologies such as machine learning, natural language processing, and computer vision leading the way. These advancements have had a profound impact on various industries, including healthcare, finance, and manufacturing, by optimizing processes, improving decision-making, and enhancing customer experiences. Case studies showcasing successful AI implementations further underscore the tangible benefits that AI can bring to organizations looking to stay ahead in today's competitive market.\n",
      "\n",
      "## Key Players in the AI Industry\n",
      "Leading companies such as Google, Microsoft, and IBM continue to drive innovation in AI, while startups are disrupting the industry with groundbreaking solutions. Collaborations and partnerships between these key players are instrumental in pushing the boundaries of AI technology and fostering a culture of continuous learning and growth. By profiling these industry giants and highlighting their contributions to the AI space, we gain valuable insights into the future direction of AI and the opportunities it presents for businesses and consumers alike.\n",
      "\n",
      "## Noteworthy News in Artificial Intelligence\n",
      "Recent advancements in AI research and development are shaping the future of technology, with breakthroughs in AI ethics and regulations setting the stage for responsible AI implementation. Keeping abreast of AI-related events, conferences, and publications is essential for staying informed on the latest developments in the field. As AI continues to permeate various aspects of our lives, understanding the ethical considerations and societal implications of AI technology is crucial for ensuring its responsible and sustainable use.\n",
      "\n",
      "## Conclusion\n",
      "In conclusion, the future of artificial intelligence is bright, filled with endless possibilities and opportunities for growth and innovation. By staying informed on the latest trends, key players, and noteworthy news in AI, professionals in the tech industry, entrepreneurs, and AI enthusiasts can navigate the rapidly evolving AI landscape with confidence and foresight. Subscribe for regular updates on AI trends and news, and share your thoughts and insights on the future of artificial intelligence to be a part of this exciting journey towards a smarter and more connected world.\u001b[0m\n",
      "\n",
      "\u001b[1m> Finished chain.\u001b[0m\n",
      "\u001b[1m\u001b[92m [DEBUG]: == [Content Writer] Task output: # The Future of Artificial Intelligence: Latest Trends, Key Players, and Noteworthy News\n",
      "\n",
      "## Introduction\n",
      "Artificial Intelligence (AI) has become an integral part of our daily lives, revolutionizing industries and driving innovation at an unprecedented pace. Staying updated on the latest trends and news in AI is crucial for professionals in the tech industry, entrepreneurs, and AI enthusiasts to harness the full potential of this transformative technology.\n",
      "\n",
      "## Latest Trends in Artificial Intelligence\n",
      "The landscape of AI is constantly evolving, with emerging technologies such as machine learning, natural language processing, and computer vision leading the way. These advancements have had a profound impact on various industries, including healthcare, finance, and manufacturing, by optimizing processes, improving decision-making, and enhancing customer experiences. Case studies showcasing successful AI implementations further underscore the tangible benefits that AI can bring to organizations looking to stay ahead in today's competitive market.\n",
      "\n",
      "## Key Players in the AI Industry\n",
      "Leading companies such as Google, Microsoft, and IBM continue to drive innovation in AI, while startups are disrupting the industry with groundbreaking solutions. Collaborations and partnerships between these key players are instrumental in pushing the boundaries of AI technology and fostering a culture of continuous learning and growth. By profiling these industry giants and highlighting their contributions to the AI space, we gain valuable insights into the future direction of AI and the opportunities it presents for businesses and consumers alike.\n",
      "\n",
      "## Noteworthy News in Artificial Intelligence\n",
      "Recent advancements in AI research and development are shaping the future of technology, with breakthroughs in AI ethics and regulations setting the stage for responsible AI implementation. Keeping abreast of AI-related events, conferences, and publications is essential for staying informed on the latest developments in the field. As AI continues to permeate various aspects of our lives, understanding the ethical considerations and societal implications of AI technology is crucial for ensuring its responsible and sustainable use.\n",
      "\n",
      "## Conclusion\n",
      "In conclusion, the future of artificial intelligence is bright, filled with endless possibilities and opportunities for growth and innovation. By staying informed on the latest trends, key players, and noteworthy news in AI, professionals in the tech industry, entrepreneurs, and AI enthusiasts can navigate the rapidly evolving AI landscape with confidence and foresight. Subscribe for regular updates on AI trends and news, and share your thoughts and insights on the future of artificial intelligence to be a part of this exciting journey towards a smarter and more connected world.\n",
      "\n",
      "\u001b[00m\n",
      "\u001b[1m\u001b[95m [DEBUG]: == Working Agent: Editor\u001b[00m\n",
      "\u001b[1m\u001b[95m [INFO]: == Starting Task: Proofread the given blog post for grammatical errors and alignment with the brand's voice.\u001b[00m\n",
      "\n",
      "\n",
      "\u001b[1m> Entering new CrewAgentExecutor chain...\u001b[0m\n"
     ]
    },
    {
     "name": "stdout",
     "output_type": "stream",
     "text": [
      "\u001b[32;1m\u001b[1;3mI now can give a great answer\n",
      "\n",
      "Final Answer: \n",
      "\n",
      "# The Future of Artificial Intelligence: Latest Trends, Key Players, and Noteworthy News\n",
      "\n",
      "## Introduction\n",
      "Artificial Intelligence (AI) has become an essential component of our daily lives, transforming industries and fostering innovation at an unprecedented rate. Keeping abreast of the latest trends and news in AI is crucial for professionals in the tech sector, entrepreneurs, and AI enthusiasts who seek to harness the full potential of this groundbreaking technology.\n",
      "\n",
      "## Latest Trends in Artificial Intelligence\n",
      "The AI landscape is continually evolving, with emerging technologies such as machine learning, natural language processing, and computer vision leading the way. These advancements have significantly impacted various sectors, including healthcare, finance, and manufacturing, by streamlining processes, enhancing decision-making, and elevating customer experiences. Case studies that highlight successful AI implementations further demonstrate the tangible benefits that AI can offer to organizations striving to stay competitive in today's dynamic market.\n",
      "\n",
      "## Key Players in the AI Industry\n",
      "Industry leaders like Google, Microsoft, and IBM are at the forefront of driving innovation in AI, while startups are disrupting the landscape with innovative solutions. Collaborations and partnerships between these key players are pivotal in pushing the boundaries of AI technology and fostering a culture of continuous learning and advancement. By profiling these tech giants and showcasing their contributions to the AI sector, we gain valuable insights into the future trajectory of AI and the myriad opportunities it presents for businesses and consumers alike.\n",
      "\n",
      "## Noteworthy News in Artificial Intelligence\n",
      "Recent progress in AI research and development is reshaping the technological landscape, with advancements in AI ethics and regulations laying the groundwork for responsible AI integration. Staying updated on AI-related events, conferences, and publications is crucial for remaining informed about the latest developments in the field. As AI continues to permeate various facets of our lives, understanding the ethical considerations and societal impacts of AI technology is key to ensuring its responsible and sustainable utilization.\n",
      "\n",
      "## Conclusion\n",
      "In conclusion, the future of artificial intelligence is promising, brimming with limitless possibilities and avenues for growth and creativity. By staying informed about the latest trends, key players, and notable news in AI, professionals in the tech industry, entrepreneurs, and AI enthusiasts can navigate the ever-evolving AI landscape with confidence and foresight. Subscribe for regular updates on AI trends and news, and contribute your thoughts and insights on the future of artificial intelligence to be an active participant in this exciting journey towards a smarter and more interconnected world.\u001b[0m\n",
      "\n",
      "\u001b[1m> Finished chain.\u001b[0m\n",
      "\u001b[1m\u001b[92m [DEBUG]: == [Editor] Task output: # The Future of Artificial Intelligence: Latest Trends, Key Players, and Noteworthy News\n",
      "\n",
      "## Introduction\n",
      "Artificial Intelligence (AI) has become an essential component of our daily lives, transforming industries and fostering innovation at an unprecedented rate. Keeping abreast of the latest trends and news in AI is crucial for professionals in the tech sector, entrepreneurs, and AI enthusiasts who seek to harness the full potential of this groundbreaking technology.\n",
      "\n",
      "## Latest Trends in Artificial Intelligence\n",
      "The AI landscape is continually evolving, with emerging technologies such as machine learning, natural language processing, and computer vision leading the way. These advancements have significantly impacted various sectors, including healthcare, finance, and manufacturing, by streamlining processes, enhancing decision-making, and elevating customer experiences. Case studies that highlight successful AI implementations further demonstrate the tangible benefits that AI can offer to organizations striving to stay competitive in today's dynamic market.\n",
      "\n",
      "## Key Players in the AI Industry\n",
      "Industry leaders like Google, Microsoft, and IBM are at the forefront of driving innovation in AI, while startups are disrupting the landscape with innovative solutions. Collaborations and partnerships between these key players are pivotal in pushing the boundaries of AI technology and fostering a culture of continuous learning and advancement. By profiling these tech giants and showcasing their contributions to the AI sector, we gain valuable insights into the future trajectory of AI and the myriad opportunities it presents for businesses and consumers alike.\n",
      "\n",
      "## Noteworthy News in Artificial Intelligence\n",
      "Recent progress in AI research and development is reshaping the technological landscape, with advancements in AI ethics and regulations laying the groundwork for responsible AI integration. Staying updated on AI-related events, conferences, and publications is crucial for remaining informed about the latest developments in the field. As AI continues to permeate various facets of our lives, understanding the ethical considerations and societal impacts of AI technology is key to ensuring its responsible and sustainable utilization.\n",
      "\n",
      "## Conclusion\n",
      "In conclusion, the future of artificial intelligence is promising, brimming with limitless possibilities and avenues for growth and creativity. By staying informed about the latest trends, key players, and notable news in AI, professionals in the tech industry, entrepreneurs, and AI enthusiasts can navigate the ever-evolving AI landscape with confidence and foresight. Subscribe for regular updates on AI trends and news, and contribute your thoughts and insights on the future of artificial intelligence to be an active participant in this exciting journey towards a smarter and more interconnected world.\n",
      "\n",
      "\u001b[00m\n"
     ]
    }
   ],
   "source": [
    "result = crew.kickoff(inputs={\"topic\": \"Artificial Intelligence\"})"
   ]
  },
  {
   "cell_type": "markdown",
   "metadata": {},
   "source": [
    "- Display the results of your execution as markdown in the notebook."
   ]
  },
  {
   "cell_type": "code",
   "execution_count": 26,
   "metadata": {
    "height": 47
   },
   "outputs": [
    {
     "data": {
      "text/markdown": [
       "# The Future of Artificial Intelligence: Latest Trends, Key Players, and Noteworthy News\n",
       "\n",
       "## Introduction\n",
       "Artificial Intelligence (AI) has become an essential component of our daily lives, transforming industries and fostering innovation at an unprecedented rate. Keeping abreast of the latest trends and news in AI is crucial for professionals in the tech sector, entrepreneurs, and AI enthusiasts who seek to harness the full potential of this groundbreaking technology.\n",
       "\n",
       "## Latest Trends in Artificial Intelligence\n",
       "The AI landscape is continually evolving, with emerging technologies such as machine learning, natural language processing, and computer vision leading the way. These advancements have significantly impacted various sectors, including healthcare, finance, and manufacturing, by streamlining processes, enhancing decision-making, and elevating customer experiences. Case studies that highlight successful AI implementations further demonstrate the tangible benefits that AI can offer to organizations striving to stay competitive in today's dynamic market.\n",
       "\n",
       "## Key Players in the AI Industry\n",
       "Industry leaders like Google, Microsoft, and IBM are at the forefront of driving innovation in AI, while startups are disrupting the landscape with innovative solutions. Collaborations and partnerships between these key players are pivotal in pushing the boundaries of AI technology and fostering a culture of continuous learning and advancement. By profiling these tech giants and showcasing their contributions to the AI sector, we gain valuable insights into the future trajectory of AI and the myriad opportunities it presents for businesses and consumers alike.\n",
       "\n",
       "## Noteworthy News in Artificial Intelligence\n",
       "Recent progress in AI research and development is reshaping the technological landscape, with advancements in AI ethics and regulations laying the groundwork for responsible AI integration. Staying updated on AI-related events, conferences, and publications is crucial for remaining informed about the latest developments in the field. As AI continues to permeate various facets of our lives, understanding the ethical considerations and societal impacts of AI technology is key to ensuring its responsible and sustainable utilization.\n",
       "\n",
       "## Conclusion\n",
       "In conclusion, the future of artificial intelligence is promising, brimming with limitless possibilities and avenues for growth and creativity. By staying informed about the latest trends, key players, and notable news in AI, professionals in the tech industry, entrepreneurs, and AI enthusiasts can navigate the ever-evolving AI landscape with confidence and foresight. Subscribe for regular updates on AI trends and news, and contribute your thoughts and insights on the future of artificial intelligence to be an active participant in this exciting journey towards a smarter and more interconnected world."
      ],
      "text/plain": [
       "<IPython.core.display.Markdown object>"
      ]
     },
     "execution_count": 26,
     "metadata": {},
     "output_type": "execute_result"
    }
   ],
   "source": [
    "from IPython.display import Markdown\n",
    "Markdown(result)"
   ]
  },
  {
   "cell_type": "markdown",
   "metadata": {},
   "source": [
    "## Try it Yourself\n",
    "\n",
    "- Pass in a topic of your choice and see what the agents come up with!"
   ]
  },
  {
   "cell_type": "code",
   "execution_count": null,
   "metadata": {
    "height": 47
   },
   "outputs": [
    {
     "name": "stdout",
     "output_type": "stream",
     "text": [
      "\u001b[1m\u001b[95m [DEBUG]: == Working Agent: Content Planner\u001b[00m\n",
      "\u001b[1m\u001b[95m [INFO]: == Starting Task: 1. Prioritize the latest trends, key players, and noteworthy news on YOUR TOPIC HERE.\n",
      "2. Identify the target audience, considering their interests and pain points.\n",
      "3. Develop a detailed content outline including an introduction, key points, and a call to action.\n",
      "4. Include SEO keywords and relevant data or sources.\u001b[00m\n",
      "\n",
      "\n",
      "\u001b[1m> Entering new CrewAgentExecutor chain...\u001b[0m\n",
      "\u001b[32;1m\u001b[1;3mI now can give a great answer\n",
      "\n",
      "Final Answer: \n",
      "\n",
      "Content Plan Document: \n",
      "\n",
      "Title: The Latest Trends and Key Players in the Tech Industry\n",
      "\n",
      "Introduction:\n",
      "- Brief overview of the tech industry and its impact on society\n",
      "- Importance of staying updated on the latest trends and key players\n",
      "\n",
      "Key Points:\n",
      "1. Latest Trends:\n",
      "- Artificial Intelligence and Machine Learning\n",
      "- Internet of Things (IoT)\n",
      "- Cybersecurity\n",
      "- 5G Technology\n",
      "- Augmented Reality (AR) and Virtual Reality (VR)\n",
      "\n",
      "2. Key Players:\n",
      "- Google\n",
      "- Apple\n",
      "- Microsoft\n",
      "- Amazon\n",
      "- Facebook\n",
      "\n",
      "3. Noteworthy News:\n",
      "- Recent mergers and acquisitions in the tech industry\n",
      "- New product launches and innovations\n",
      "- Regulatory updates impacting tech companies\n",
      "\n",
      "Audience Analysis:\n",
      "- Target Audience: Tech enthusiasts, industry professionals, and consumers\n",
      "- Interests: Staying updated on the latest tech trends, learning about key players in the industry, and understanding the impact of technology on society\n",
      "- Pain Points: Keeping up with rapidly evolving technology, navigating the crowded tech landscape, and understanding complex technical concepts\n",
      "\n",
      "SEO Keywords:\n",
      "- Tech industry trends\n",
      "- Key players in tech\n",
      "- Latest tech news\n",
      "- Technology updates\n",
      "- Top tech companies\n",
      "\n",
      "Resources:\n",
      "1. Forbes Technology section\n",
      "2. TechCrunch website\n",
      "3. Statista reports on tech industry trends\n",
      "4. CNBC Tech news coverage\n",
      "\n",
      "Call to Action:\n",
      "- Encourage readers to subscribe to a tech newsletter for regular updates\n",
      "- Invite readers to share their thoughts on the latest tech trends in the comments section\n",
      "- Provide links to related articles and resources for further reading\n",
      "\n",
      "By following this comprehensive content plan, the blog article on the latest trends and key players in the tech industry will engage the target audience, provide valuable information, and help readers make informed decisions in the ever-evolving tech landscape.\u001b[0m\n",
      "\n",
      "\u001b[1m> Finished chain.\u001b[0m\n",
      "\u001b[1m\u001b[92m [DEBUG]: == [Content Planner] Task output: Content Plan Document: \n",
      "\n",
      "Title: The Latest Trends and Key Players in the Tech Industry\n",
      "\n",
      "Introduction:\n",
      "- Brief overview of the tech industry and its impact on society\n",
      "- Importance of staying updated on the latest trends and key players\n",
      "\n",
      "Key Points:\n",
      "1. Latest Trends:\n",
      "- Artificial Intelligence and Machine Learning\n",
      "- Internet of Things (IoT)\n",
      "- Cybersecurity\n",
      "- 5G Technology\n",
      "- Augmented Reality (AR) and Virtual Reality (VR)\n",
      "\n",
      "2. Key Players:\n",
      "- Google\n",
      "- Apple\n",
      "- Microsoft\n",
      "- Amazon\n",
      "- Facebook\n",
      "\n",
      "3. Noteworthy News:\n",
      "- Recent mergers and acquisitions in the tech industry\n",
      "- New product launches and innovations\n",
      "- Regulatory updates impacting tech companies\n",
      "\n",
      "Audience Analysis:\n",
      "- Target Audience: Tech enthusiasts, industry professionals, and consumers\n",
      "- Interests: Staying updated on the latest tech trends, learning about key players in the industry, and understanding the impact of technology on society\n",
      "- Pain Points: Keeping up with rapidly evolving technology, navigating the crowded tech landscape, and understanding complex technical concepts\n",
      "\n",
      "SEO Keywords:\n",
      "- Tech industry trends\n",
      "- Key players in tech\n",
      "- Latest tech news\n",
      "- Technology updates\n",
      "- Top tech companies\n",
      "\n",
      "Resources:\n",
      "1. Forbes Technology section\n",
      "2. TechCrunch website\n",
      "3. Statista reports on tech industry trends\n",
      "4. CNBC Tech news coverage\n",
      "\n",
      "Call to Action:\n",
      "- Encourage readers to subscribe to a tech newsletter for regular updates\n",
      "- Invite readers to share their thoughts on the latest tech trends in the comments section\n",
      "- Provide links to related articles and resources for further reading\n",
      "\n",
      "By following this comprehensive content plan, the blog article on the latest trends and key players in the tech industry will engage the target audience, provide valuable information, and help readers make informed decisions in the ever-evolving tech landscape.\n",
      "\n",
      "\u001b[00m\n",
      "\u001b[1m\u001b[95m [DEBUG]: == Working Agent: Content Writer\u001b[00m\n",
      "\u001b[1m\u001b[95m [INFO]: == Starting Task: 1. Use the content plan to craft a compelling blog post on YOUR TOPIC HERE.\n",
      "2. Incorporate SEO keywords naturally.\n",
      "3. Sections/Subtitles are properly named in an engaging manner.\n",
      "4. Ensure the post is structured with an engaging introduction, insightful body, and a summarizing conclusion.\n",
      "5. Proofread for grammatical errors and alignment with the brand's voice.\n",
      "\u001b[00m\n",
      "\n",
      "\n",
      "\u001b[1m> Entering new CrewAgentExecutor chain...\u001b[0m\n"
     ]
    }
   ],
   "source": [
    "topic = \"YOUR TOPIC HERE\"\n",
    "result = crew.kickoff(inputs={\"topic\": topic})"
   ]
  },
  {
   "cell_type": "code",
   "execution_count": null,
   "metadata": {
    "height": 30
   },
   "outputs": [],
   "source": [
    "Markdown(result)"
   ]
  },
  {
   "cell_type": "markdown",
   "metadata": {},
   "source": [
    "<a name='1'></a>\n",
    " ## Other Popular Models as LLM for your Agents"
   ]
  },
  {
   "cell_type": "markdown",
   "metadata": {},
   "source": [
    "#### Hugging Face (HuggingFaceHub endpoint)\n",
    "\n",
    "```Python\n",
    "from langchain_community.llms import HuggingFaceHub\n",
    "\n",
    "llm = HuggingFaceHub(\n",
    "    repo_id=\"HuggingFaceH4/zephyr-7b-beta\",\n",
    "    huggingfacehub_api_token=\"<HF_TOKEN_HERE>\",\n",
    "    task=\"text-generation\",\n",
    ")\n",
    "\n",
    "### you will pass \"llm\" to your agent function\n",
    "```"
   ]
  },
  {
   "cell_type": "markdown",
   "metadata": {},
   "source": [
    "#### Mistral API\n",
    "\n",
    "```Python\n",
    "OPENAI_API_KEY=your-mistral-api-key\n",
    "OPENAI_API_BASE=https://api.mistral.ai/v1\n",
    "OPENAI_MODEL_NAME=\"mistral-small\"\n",
    "```"
   ]
  },
  {
   "cell_type": "markdown",
   "metadata": {},
   "source": [
    "#### Cohere\n",
    "\n",
    "```Python\n",
    "from langchain_community.chat_models import ChatCohere\n",
    "# Initialize language model\n",
    "os.environ[\"COHERE_API_KEY\"] = \"your-cohere-api-key\"\n",
    "llm = ChatCohere()\n",
    "\n",
    "### you will pass \"llm\" to your agent function\n",
    "```"
   ]
  },
  {
   "cell_type": "markdown",
   "metadata": {},
   "source": [
    "### For using Llama locally with Ollama and more, checkout the crewAI documentation on [Connecting to any LLM](https://docs.crewai.com/how-to/LLM-Connections/)."
   ]
  },
  {
   "cell_type": "code",
   "execution_count": null,
   "metadata": {
    "height": 30
   },
   "outputs": [],
   "source": []
  },
  {
   "cell_type": "code",
   "execution_count": null,
   "metadata": {
    "height": 30
   },
   "outputs": [],
   "source": []
  }
 ],
 "metadata": {
  "colab": {
   "gpuType": "T4",
   "provenance": []
  },
  "kernelspec": {
   "display_name": "Python 3 (ipykernel)",
   "language": "python",
   "name": "python3"
  },
  "language_info": {
   "codemirror_mode": {
    "name": "ipython",
    "version": 3
   },
   "file_extension": ".py",
   "mimetype": "text/x-python",
   "name": "python",
   "nbconvert_exporter": "python",
   "pygments_lexer": "ipython3",
   "version": "3.11.5"
  }
 },
 "nbformat": 4,
 "nbformat_minor": 4
}
